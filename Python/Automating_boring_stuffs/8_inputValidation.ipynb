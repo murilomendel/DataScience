{
 "cells": [
  {
   "cell_type": "code",
   "execution_count": null,
   "metadata": {},
   "outputs": [],
   "source": [
    "# INPUT VALIDATION\n",
    "# https://pyinputplus.readthedocs.io/\n",
    "import pyinputplus as pyip"
   ]
  },
  {
   "cell_type": "code",
   "execution_count": null,
   "metadata": {},
   "outputs": [],
   "source": [
    "response = pyip.inputNum()\n",
    "\n",
    "response = input('Enter a number:') # Response is a String\n",
    "response = pyip.inputInt(prompt='Enter a number:') # Response is a Integer\n",
    "\n",
    "# min, max, lessThan, greaterThan Keyword Arguments\n",
    "response = pyip.inputNum('Enter a number:', min = 4)\n",
    "response = pyip.inputNum('Enter a number:', greaterThan=4)\n",
    "response = pyip.inputNum('>', min=4, lessThan=6)\n",
    "\n",
    "# Blank Keyword Argument\n",
    "response = pyip.inputNum('Enter a number: ', blank=True) # Make Input Optional\n",
    "\n",
    "# limit, timeout, default Keyword Arguments\n",
    "response = pyip.inputNum(limit=2) # Maximum two input tries\n",
    "response = pyip.inputNum(timeout=10) # Maximum 10 seconds to input\n",
    "response = pyip.inputNum(limit=2, default='N/A') # Default input value"
   ]
  },
  {
   "cell_type": "code",
   "execution_count": null,
   "metadata": {},
   "outputs": [],
   "source": [
    "# allowRegexes, blockRegexes Keyword Arguments\n",
    "response = pyip.inputNum(allowRegexes=[r'(I|V|X|L|C|D|M)+', r'zero']) # Romans numbers\n",
    "response = pyip.inputNum(blockRegexes=[r'[02468]$']) # odd numbers\n",
    "# alloRegexes overrides blockRegexes\n",
    "response = pyip.inputStr(allowRegexes=[r'caterpillar', 'category'], blockRegexes=[r'cat'])"
   ]
  },
  {
   "cell_type": "code",
   "execution_count": null,
   "metadata": {},
   "outputs": [],
   "source": [
    "# Passing a custom validation function to inputCustom()\n",
    "# We want the user to pass a series of digits that adds up to 10.\n",
    "def addsUpToTen(numbers):\n",
    "    numberList = list(numbers)\n",
    "    for i, digit in enumerate(numberList):\n",
    "        numberList[i] = int(digit)\n",
    "    if sum(numberList) != 10:\n",
    "        raise Exception('The digits must add up to 10, not %s.' %(sum(numberList)))\n",
    "    return int(numbers)\n",
    "\n",
    "response = pyip.inputCustom(addsUpToTen)"
   ]
  }
 ],
 "metadata": {
  "kernelspec": {
   "display_name": "Python 3",
   "language": "python",
   "name": "python3"
  },
  "language_info": {
   "codemirror_mode": {
    "name": "ipython",
    "version": 3
   },
   "file_extension": ".py",
   "mimetype": "text/x-python",
   "name": "python",
   "nbconvert_exporter": "python",
   "pygments_lexer": "ipython3",
   "version": "3.6.2"
  }
 },
 "nbformat": 4,
 "nbformat_minor": 4
}
