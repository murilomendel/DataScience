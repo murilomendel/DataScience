{
 "cells": [
  {
   "cell_type": "code",
   "execution_count": null,
   "metadata": {},
   "outputs": [],
   "source": [
    "# phoneAndEmail.py - Finds phone numbers and e-mail adresses on the clipboard\n",
    "\n",
    "# PROJECT: Phone Number and Email Address Extractor\n",
    "\n",
    "import pyperclip, re"
   ]
  },
  {
   "cell_type": "code",
   "execution_count": null,
   "metadata": {},
   "outputs": [],
   "source": [
    "# Phone Regex Pattern\n",
    "phoneRegex = re.compile(r'''(\n",
    "    \\(?(\\+\\d?-?\\d{2,3})\\)? # Country Code\n",
    "    (\\s|-|\\.)?             # Separator\n",
    "    ([0]?\\d{2})?           # Area Code\n",
    "    (\\s|-|\\.)?             # Separator\n",
    "    (\\d{4,5})                # First four phone digits\n",
    "    (-)?                   # Separator\n",
    "    (\\d{4})                # Fina four phone digits\n",
    "    )''', re.VERBOSE)\n",
    "phoneRegex.search('+55 011 4544-4852').group()"
   ]
  },
  {
   "cell_type": "code",
   "execution_count": null,
   "metadata": {},
   "outputs": [],
   "source": [
    "# Email Regex Pattern\n",
    "emailRegex = re.compile(r'''(\n",
    "    ([a-zA-Z0-9._%+-])+ # username\n",
    "    (@)                 # @ symbol\n",
    "    ([a-zA-Z0-9.-])+    # domain\n",
    "    (\\.com)             # .com\n",
    "    )''', re.VERBOSE)\n",
    "emailRegex.search('murilomendel@hotmail.com').group(1)"
   ]
  }
 ],
 "metadata": {
  "kernelspec": {
   "display_name": "Python 3",
   "language": "python",
   "name": "python3"
  },
  "language_info": {
   "codemirror_mode": {
    "name": "ipython",
    "version": 3
   },
   "file_extension": ".py",
   "mimetype": "text/x-python",
   "name": "python",
   "nbconvert_exporter": "python",
   "pygments_lexer": "ipython3",
   "version": "3.6.2"
  }
 },
 "nbformat": 4,
 "nbformat_minor": 4
}
