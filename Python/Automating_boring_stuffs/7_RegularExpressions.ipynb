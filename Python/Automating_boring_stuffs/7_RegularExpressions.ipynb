{
 "cells": [
  {
   "cell_type": "code",
   "execution_count": null,
   "metadata": {},
   "outputs": [],
   "source": [
    "# Regular Expressions(Regex)\n",
    "import re"
   ]
  },
  {
   "cell_type": "code",
   "execution_count": null,
   "metadata": {},
   "outputs": [],
   "source": [
    "# Matching phone number pattern\n",
    "phoneNumRegex = re.compile(r'(\\(\\d\\d\\d\\))-(\\d\\d\\d-\\d\\d\\d)')\n",
    "mo = phoneNumRegex.search('My number is (415)-555-4242.')\n",
    "print('Phone number found: ' + mo.group())\n",
    "areaCode, mainNumber = mo.groups()\n",
    "print(areaCode)\n",
    "print(mainNumber)"
   ]
  },
  {
   "cell_type": "code",
   "execution_count": null,
   "metadata": {},
   "outputs": [],
   "source": [
    "# Matching multiple groups with Pipe(|)\n",
    "heroRegex = re.compile(r'Batman|Tina Fey')\n",
    "mo1 = heroRegex.search('Batman and Tina Fey')\n",
    "mo1.group()\n",
    "mo2 = heroRegex.search('Tina Fey and Batman')\n",
    "mo2.group()"
   ]
  },
  {
   "cell_type": "code",
   "execution_count": null,
   "metadata": {},
   "outputs": [],
   "source": [
    "batRegex = re.compile(r'Bat(man|mobile|capter|bat)')\n",
    "mo = batRegex.search('Batmobile lost a wheel')\n",
    "mo.group()\n",
    "mo.group(1)"
   ]
  },
  {
   "cell_type": "code",
   "execution_count": null,
   "metadata": {},
   "outputs": [],
   "source": [
    "# Optional Matching with Question Mark\n",
    "batRegex = re.compile(r'Bat(wo)?man')\n",
    "mo1 = batRegex.search('The Adventures of Batman')\n",
    "mo1.group()\n",
    "mo2 = batRegex.search('The Adventures of Batwoman')\n",
    "mo2.group()"
   ]
  },
  {
   "cell_type": "code",
   "execution_count": null,
   "metadata": {},
   "outputs": [],
   "source": [
    "# Matching zero or more with star\n",
    "batRegex = re.compile(r'Bat(wo)*man')\n",
    "mo1 = batRegex.search('The Adventures of Batman')\n",
    "mo1.group()\n",
    "mo2 = batRegex.search('The Adventures of Batwoman')\n",
    "mo2.group()\n",
    "mo3 = batRegex.search('The Adventures of Batwowowowowoman')\n",
    "mo3.group()"
   ]
  },
  {
   "cell_type": "code",
   "execution_count": null,
   "metadata": {},
   "outputs": [],
   "source": [
    "# Matching Specific Repetitions with Braces\n",
    "haRegex = re.compile(r'(Ha){3}')\n",
    "mo1 = haRegex.search('HaHaHa')\n",
    "mo1.group()\n",
    "\n",
    "mo2 = haRegex.search('Ha')\n",
    "mo2 == None"
   ]
  },
  {
   "cell_type": "code",
   "execution_count": null,
   "metadata": {},
   "outputs": [],
   "source": [
    "# Greedy and Non-greedy Matching\n",
    "greedyHaRegex = re.compile(r'(Ha){3,5}')\n",
    "mo1 = greedyHaRegex.search('HaHaHaHaHa')\n",
    "mo1.group()\n",
    "\n",
    "nongreedyHaRegex = re.compile(r'(Ha){3,5}?')\n",
    "mo2 = nongreedyHaRegex.search('HaHaHaHaHa')\n",
    "mo2.group()"
   ]
  },
  {
   "cell_type": "code",
   "execution_count": null,
   "metadata": {},
   "outputs": [],
   "source": [
    "# The findall() method\n",
    "# search(): return a match object of the first matched text in the searched string\n",
    "phoneNumRegex = re.compile(r'\\d\\d\\d-\\d\\d\\d-\\d\\d\\d\\d') # No groups\n",
    "mo = phoneNumRegex.search('Cell: 415-555-9999 Work: 212-555-0000')\n",
    "mo.group()\n",
    "\n",
    "# findall(): return the string of every match in the searched string\n",
    "phoneNumRegex.findall('Cell: 415-555-9999 Work: 212-555-0000')\n",
    "phoneNumRegex = re.compile(r'(\\d\\d\\d)-(\\d\\d\\d)-(\\d\\d\\d\\d)') # Three groups\n",
    "phoneNumRegex.findall('Cell: 415-555-9999 Work: 212-555-0000')\n",
    "\n",
    "# Character Classes\n",
    "# \\d - Any numeric digit from 0 to 9\n",
    "# \\D - Any character that IS NOT a digit from 0 to 9\n",
    "# \\w - Any letter, numeric digit or the underscore character\n",
    "# \\W - Any character that IS NOT letter, numeric digit or the underscore character\n",
    "# \\s - Any space, tab or newline character\n",
    "# \\S - Any character that IS NOT a space, tab or newline character\n",
    "\n",
    "xmasRegex = re.compile(r'\\d+\\s\\w+')\n",
    "xmasRegex.findall('12 drummers, 11 pipers, 10 lords, 9 ladies, 8 maids, 7 swans, 6geese, 4 birds, 3 hens, 2 doves, 1 partridge')"
   ]
  },
  {
   "cell_type": "code",
   "execution_count": null,
   "metadata": {},
   "outputs": [],
   "source": [
    "# Making your own character classes\n",
    "vowelRegex = re.compile(r'[aeiouAEIOU]')\n",
    "vowelRegex = re.compile(r'[^aeiouAEIOU]') # Negative character class\n",
    "vowelRegex.findall(\"Robocop eats baby food. BABY FOOD\")\n",
    "\n",
    "# Caret and Dollar sign Characters\n",
    "beginsWithHello = re.compile(r'^Hello')\n",
    "beginsWithHello.search(\"Hello, world!\")\n",
    "beginsWithHello.search('He said hello') == None\n",
    "\n",
    "endsWithNumber = re.compile(r'\\d$')\n",
    "endsWithNumber.search('Your number is 42')\n",
    "endsWithNumber.search ('Your number is fourty two') == None\n",
    "\n",
    "wholeStringMatch = re.compile(r'^\\d+$') # Entire strig must match to the pattern \n",
    "wholeStringMatch.search('1234567890')\n",
    "wholeStringMatch.search('12345xyz67890') == None\n",
    "wholeStringMatch.search('12  34567890') == None"
   ]
  },
  {
   "cell_type": "code",
   "execution_count": null,
   "metadata": {},
   "outputs": [],
   "source": [
    "# The Wildcard character\n",
    "atRegex = re.compile(r'.at')\n",
    "atRegex.findall('The cat in the hats sat on the flat mat.')\n",
    "\n",
    "# Matching everything with Dot-Star\n",
    "nameRegex = re.compile(r'First Name: (.*) Last Name: (.*)')\n",
    "mo = nameRegex.search('First Name: Al Last Name: Sweigart')\n",
    "mo.group(1)\n",
    "mo.group(2)\n",
    "\n",
    "nongreedyRegex = re.compile(r'<.*?>')\n",
    "mo = nongreedyRegex.search('<to serve man> for dinner.>')\n",
    "mo.group()\n",
    "\n",
    "greedyRegex = re.compile(r'<.*>')\n",
    "mo = greedyRegex.search('<to serve man> for dinner.>')\n",
    "mo.group()"
   ]
  },
  {
   "cell_type": "code",
   "execution_count": null,
   "metadata": {},
   "outputs": [],
   "source": [
    "# Matching Newlines with the Dot Character\n",
    "# . (dot) character will match everything except a new line\n",
    "# Passing re.DOTALL as the second argument to the re.compile(),\n",
    "# you can make the . character match all characters, including the new line character.\n",
    "noNewLineRegex = re.compile(r'.*')\n",
    "noNewLineRegex.search('Serve the public trust.\\nProtect the innocent.\\nUphold the law.').group()\n",
    "\n",
    "newLineRegex = re.compile(r'.*', re.DOTALL)\n",
    "newLineRegex.search('Serve the public trust.\\nProtect the innocent.\\nUphold the law.').group()"
   ]
  },
  {
   "cell_type": "code",
   "execution_count": null,
   "metadata": {},
   "outputs": [],
   "source": [
    "# Case-Insensitive Matching\n",
    "regex1 = re.compile('Robocop')\n",
    "regex2 = re.compile('ROBOCOP')\n",
    "regex3 = re.compile('robOcop')\n",
    "regex4 = re.compile('RobocOp')\n",
    "\n",
    "robocop = re.compile(r'robocop', re.I)\n",
    "robocop.search('RoboCop is part man, part machine, all cop.').group()\n",
    "robocop.search('ROBOCOP is part man, part machine, all cop.').group()\n",
    "robocop.search('Al, why does yout programming book talk about robocop so much?').group()"
   ]
  },
  {
   "cell_type": "code",
   "execution_count": null,
   "metadata": {},
   "outputs": [],
   "source": [
    "# Substituing Strings with the sub() Method\n",
    "nameRegex = re.compile(r'Agent \\w+')\n",
    "nameRegex.sub('CENSORED', 'Agent Alice gave the secret documents to Agent Bob')\n",
    "\n",
    "agentNamesRegex = re.compile(r'Agent (\\w)\\w*')\n",
    "agentNamesRegex.sub(r'\\1****', 'Agent Alice told Agent Carol that Agent Eve knew Agent Bob was a double agent.')"
   ]
  },
  {
   "cell_type": "code",
   "execution_count": null,
   "metadata": {},
   "outputs": [],
   "source": [
    "# Managing Complex Regex\n",
    "# tell re.compile to ignore whitespace and commets inside the regular expression\n",
    "phoneRegex = re.compile(r'((\\d{3}|\\(\\d{3}\\))?(\\s|-|\\.)?\\d{3}(\\s|-|\\.)\\d{4}(\\s*(ext|x|ext.)\\s*\\d{2,5})?)')"
   ]
  },
  {
   "cell_type": "code",
   "execution_count": null,
   "metadata": {},
   "outputs": [],
   "source": [
    "# Organized expression with ''' (thriple-quotes)\n",
    "# Verbose ignore the spaces and comments writen on the regular expression \n",
    "phoneRegex = re.compile(r'''((\\d{3}|\\(\\d{3}\\))?       # area code\n",
    "                        (\\s|-|\\.)?                    # separator \n",
    "                        \\d{3}                         # first 3 digits\n",
    "                        (\\s|-|\\.)                     # separator\n",
    "                        \\d{4}                         # last 4 digits\n",
    "                        (\\s*(ext|x|ext.)\\s*\\d{2,5})?  # extension\n",
    "                        )''', re.VERBOSE)"
   ]
  },
  {
   "cell_type": "code",
   "execution_count": null,
   "metadata": {},
   "outputs": [],
   "source": [
    "# Combining re.IGNORECASE, re.DOTALL and re.VERBOSE\n",
    "# Using bitwise operators: http://nostarch.com/automatestuff2/\n",
    "someRegexValue = re.compile('foo', re.IGNORECASE | re.DOTALL)\n",
    "someRegexValue = re.compile('foo', re.IGNORECASE | re.DOTALL | re.VERBOSE)\n"
   ]
  }
 ],
 "metadata": {
  "kernelspec": {
   "display_name": "Python 3",
   "language": "python",
   "name": "python3"
  },
  "language_info": {
   "codemirror_mode": {
    "name": "ipython",
    "version": 3
   },
   "file_extension": ".py",
   "mimetype": "text/x-python",
   "name": "python",
   "nbconvert_exporter": "python",
   "pygments_lexer": "ipython3",
   "version": "3.6.2"
  }
 },
 "nbformat": 4,
 "nbformat_minor": 4
}
